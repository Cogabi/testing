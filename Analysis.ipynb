{
 "cells": [
  {
   "cell_type": "markdown",
   "id": "90e9dccb-2d29-46c0-9cb4-f7de9419d60a",
   "metadata": {},
   "source": [
    "Read data from file"
   ]
  },
  {
   "cell_type": "code",
   "execution_count": 3,
   "id": "550e904e-4f02-4827-b3af-914453bb9d50",
   "metadata": {},
   "outputs": [
    {
     "data": {
      "text/html": [
       "<div>\n",
       "<style scoped>\n",
       "    .dataframe tbody tr th:only-of-type {\n",
       "        vertical-align: middle;\n",
       "    }\n",
       "\n",
       "    .dataframe tbody tr th {\n",
       "        vertical-align: top;\n",
       "    }\n",
       "\n",
       "    .dataframe thead th {\n",
       "        text-align: right;\n",
       "    }\n",
       "</style>\n",
       "<table border=\"1\" class=\"dataframe\">\n",
       "  <thead>\n",
       "    <tr style=\"text-align: right;\">\n",
       "      <th></th>\n",
       "      <th>Company</th>\n",
       "      <th>Amount</th>\n",
       "      <th>Lead investors</th>\n",
       "      <th>Valuation</th>\n",
       "      <th>Industry</th>\n",
       "      <th>Date reported</th>\n",
       "    </tr>\n",
       "  </thead>\n",
       "  <tbody>\n",
       "    <tr>\n",
       "      <th>0</th>\n",
       "      <td>OpenAI</td>\n",
       "      <td>$10,000,000,000</td>\n",
       "      <td>Microsoft</td>\n",
       "      <td>NaN</td>\n",
       "      <td>Artificial intelligence</td>\n",
       "      <td>1/23/23</td>\n",
       "    </tr>\n",
       "    <tr>\n",
       "      <th>1</th>\n",
       "      <td>Stripe</td>\n",
       "      <td>$6,500,000,000</td>\n",
       "      <td>NaN</td>\n",
       "      <td>$50,000,000,000</td>\n",
       "      <td>Fintech</td>\n",
       "      <td>3/15/23</td>\n",
       "    </tr>\n",
       "    <tr>\n",
       "      <th>2</th>\n",
       "      <td>Inflection AI</td>\n",
       "      <td>$1,300,000,000</td>\n",
       "      <td>Microsoft, Reid Hoffman, Bill Gates, Eric Schm...</td>\n",
       "      <td>$4,000,000,000</td>\n",
       "      <td>Artificial intelligence</td>\n",
       "      <td>6/29/23</td>\n",
       "    </tr>\n",
       "    <tr>\n",
       "      <th>3</th>\n",
       "      <td>Anthropic</td>\n",
       "      <td>$1,250,000,000</td>\n",
       "      <td>Amazon</td>\n",
       "      <td>$4,000,000,000</td>\n",
       "      <td>Artificial intelligence</td>\n",
       "      <td>9/25/23</td>\n",
       "    </tr>\n",
       "    <tr>\n",
       "      <th>4</th>\n",
       "      <td>Generate Capital</td>\n",
       "      <td>$1,030,900,000</td>\n",
       "      <td>NaN</td>\n",
       "      <td>NaN</td>\n",
       "      <td>Energy</td>\n",
       "      <td>1/6/23</td>\n",
       "    </tr>\n",
       "  </tbody>\n",
       "</table>\n",
       "</div>"
      ],
      "text/plain": [
       "            Company           Amount  \\\n",
       "0            OpenAI  $10,000,000,000   \n",
       "1            Stripe   $6,500,000,000   \n",
       "2     Inflection AI   $1,300,000,000   \n",
       "3         Anthropic   $1,250,000,000   \n",
       "4  Generate Capital   $1,030,900,000   \n",
       "\n",
       "                                      Lead investors        Valuation  \\\n",
       "0                                          Microsoft              NaN   \n",
       "1                                                NaN  $50,000,000,000   \n",
       "2  Microsoft, Reid Hoffman, Bill Gates, Eric Schm...   $4,000,000,000   \n",
       "3                                             Amazon   $4,000,000,000   \n",
       "4                                                NaN              NaN   \n",
       "\n",
       "                  Industry Date reported  \n",
       "0  Artificial intelligence       1/23/23  \n",
       "1                  Fintech       3/15/23  \n",
       "2  Artificial intelligence       6/29/23  \n",
       "3  Artificial intelligence       9/25/23  \n",
       "4                   Energy        1/6/23  "
      ]
     },
     "execution_count": 3,
     "metadata": {},
     "output_type": "execute_result"
    }
   ],
   "source": [
    "import pandas as pd\n",
    "file = r'Largest US Venture Funding Deals Of 2023.csv'\n",
    "df = pd.read_csv(file)\n",
    "df.head()"
   ]
  },
  {
   "cell_type": "code",
   "execution_count": null,
   "id": "90a1328e",
   "metadata": {},
   "outputs": [],
   "source": []
  }
 ],
 "metadata": {
  "kernelspec": {
   "display_name": "Python 3 (ipykernel)",
   "language": "python",
   "name": "python3"
  },
  "language_info": {
   "codemirror_mode": {
    "name": "ipython",
    "version": 3
   },
   "file_extension": ".py",
   "mimetype": "text/x-python",
   "name": "python",
   "nbconvert_exporter": "python",
   "pygments_lexer": "ipython3",
   "version": "3.9.7"
  }
 },
 "nbformat": 4,
 "nbformat_minor": 5
}
